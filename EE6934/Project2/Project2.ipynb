{
 "cells": [
  {
   "cell_type": "markdown",
   "metadata": {
    "id": "y2osEUslUGkv"
   },
   "source": [
    "# CEG5304/EE6934 Deep Learning Project 2\n",
    "\n",
    "In this project, you are going to start an exciting journey to explore Deep Learning and Neural Networks by completing the following three tasks:\n",
    "\n",
    "* Task 1. Building Neural Network (30%)\n",
    "* Task 2. Exploring Model Training (30%)\n",
    "* Task 3. Adversarial Attack (40%)\n",
    "\n",
    "Before doing the project, please read the instructions carefully (failure to do so will be penalized):\n",
    "\n",
    "1. Implement your codes **within** \"TODO\" and \"END OF YOUR CODE\", do **NOT** modify any codes outside the answer area;\n",
    "2. Make sure your codes **clean**, **easily readable** (add meaningful comments if needed), and **runnable**;\n",
    "3. Write your answers in the given markdown cells, keep your answers clear and concise;\n",
    "4. Do submit your project to \"Assignments --> Project 2\" on [Canvas](https://canvas.nus.edu.sg/) before the deadline: **5:59 pm (SGT), 6 March, 2023**;\n",
    "5. This is an individual project, do **NOT** share your solutions with others, we have zero tolerance for cheating.\n",
    "\n",
    "If you have any questions regarding this project, please feel free to contact Zhangjie Wu (zhangjiewu@u.nus.edu) and Liu, Jiawei (jiawei.liu@u.nus.edu). "
   ]
  },
  {
   "cell_type": "markdown",
   "metadata": {
    "id": "XyJICDR5tkuj"
   },
   "source": [
    "## Preparation"
   ]
  },
  {
   "cell_type": "markdown",
   "metadata": {
    "id": "A2HVv6XcoTjb"
   },
   "source": [
    "### Loading packages\n",
    "\n",
    "Please install the packages listed below if you haven't done so. To avoid unnecessary trouble reproducing your assignment, we recommend you to use `torch==1.9.0` and `torchvision==0.10.0`."
   ]
  },
  {
   "cell_type": "code",
   "execution_count": null,
   "metadata": {},
   "outputs": [],
   "source": [
    "!pip install torch==1.9.0\n",
    "!pip install torchvision==0.10.0"
   ]
  },
  {
   "cell_type": "code",
   "execution_count": null,
   "metadata": {
    "id": "LNFcTvFWg1L1"
   },
   "outputs": [],
   "source": [
    "import os\n",
    "import time\n",
    "import copy\n",
    "import numpy as np\n",
    "import matplotlib.pyplot as plt\n",
    "\n",
    "import matplotlib.cm as mpl_color_map\n",
    "from PIL import Image\n",
    "from random import randint\n",
    "\n",
    "import torch\n",
    "import torch.nn.functional as F\n",
    "import torch.optim as optim\n",
    "import torchvision"
   ]
  },
  {
   "cell_type": "markdown",
   "metadata": {
    "id": "Owj6jKvWraFJ"
   },
   "source": [
    "### Checking the Running Device\n",
    "\n",
    "It is recommended to run this notebook on GPUs since that would be a much faster way to train and evaluate the model. If you have difficulties accessing GPUs with your machine, you can choose to use the free GPUs provided by [Google Colab](https://colab.research.google.com/)."
   ]
  },
  {
   "cell_type": "code",
   "execution_count": null,
   "metadata": {
    "id": "CLovzR7Lk49o"
   },
   "outputs": [],
   "source": [
    "if torch.cuda.is_available():\n",
    "  device = 'cuda:0'\n",
    "else:\n",
    "  device = 'cpu'\n",
    "print(device)"
   ]
  },
  {
   "cell_type": "markdown",
   "metadata": {
    "id": "Fb12tK49rDia"
   },
   "source": [
    "### Getting the CIFAR-10 Dataset"
   ]
  },
  {
   "cell_type": "code",
   "execution_count": null,
   "metadata": {
    "id": "EIT2XbCfp2iv"
   },
   "outputs": [],
   "source": [
    "CIFAR_CLASSES = ['Airplane', 'Automobile', 'Bird', 'Cat', 'Deer', 'Dog', 'Frog', 'Horse', 'Ship', 'Truck']\n",
    "CIFAR_MEAN, CIFAR_STD = np.array([0.4914, 0.4822, 0.4465]), np.array([0.247, 0.243, 0.261])\n",
    "\n",
    "# Convert image to pytroch tensor and normalize\n",
    "transform = torchvision.transforms.Compose([\n",
    "    torchvision.transforms.ToTensor(),\n",
    "    torchvision.transforms.Normalize(mean=CIFAR_MEAN.tolist(), std=CIFAR_STD.tolist())\n",
    "])\n",
    "\n",
    "# Inverse operation to regain original image\n",
    "inverse_transform = torchvision.transforms.Compose([ \n",
    "    torchvision.transforms.Normalize(mean=[0, 0, 0], std=(1 / CIFAR_STD).tolist()),\n",
    "    torchvision.transforms.Normalize(mean=(-CIFAR_MEAN).tolist(), std=[1, 1, 1]),\n",
    "    torchvision.transforms.ToPILImage()\n",
    "])\n",
    "\n",
    "# Load dataset\n",
    "train_set = torchvision.datasets.CIFAR10(root=\"data\", train=True, download=True, transform=transform)\n",
    "train_size = len(train_set)\n",
    "test_set = torchvision.datasets.CIFAR10(root=\"data\", train=False, download=True, transform=transform)\n",
    "test_size = len(test_set)"
   ]
  },
  {
   "cell_type": "markdown",
   "metadata": {
    "id": "4sbRn41AoTje"
   },
   "source": [
    "### Helper Fuctions"
   ]
  },
  {
   "cell_type": "code",
   "execution_count": null,
   "metadata": {
    "id": "byI3kUUeoTje"
   },
   "outputs": [],
   "source": [
    "def show_prob_cifar(image, label, p):\n",
    "    \"\"\"\n",
    "        Show image and prediction probability for CIFAR-10 dataset.\n",
    "    Args:\n",
    "    Inputs\n",
    "        image (Tensor): Input image\n",
    "        label (int): The ground truth label of input image\n",
    "        p (Tensor): Class probability of input image\n",
    "    \n",
    "    \"\"\"\n",
    "\n",
    "    ft = 10\n",
    "    width = 0.9\n",
    "    col = 'blue'\n",
    "\n",
    "    p=p.cpu().data.squeeze().numpy()\n",
    "    y_pos = np.arange(len(p))\n",
    "    fig = plt.figure(figsize=(5, 5))\n",
    "\n",
    "    # Plot image\n",
    "    ax1 = plt.subplot(2, 1, 1)\n",
    "    ax1.imshow(image)\n",
    "    ax1.set_axis_off()\n",
    "    ax1.set_title('Ground Truth: ' + CIFAR_CLASSES[label])\n",
    "\n",
    "    # Plot probability\n",
    "    ax2 = plt.subplot(2, 1, 2)\n",
    "    ax2.barh(y_pos, p*0.1, width , align='center', color=col)\n",
    "    ax2.set_yticks(y_pos)\n",
    "    ax2.set_yticklabels(CIFAR_CLASSES, fontsize=ft)\n",
    "    ax2.invert_yaxis()  \n",
    "    ax2.set_xticklabels([])\n",
    "    ax2.set_xticks([])\n",
    "    ax2.spines['right'].set_visible(False)\n",
    "    ax2.spines['top'].set_visible(False)\n",
    "    ax2.spines['bottom'].set_visible(False)\n",
    "    ax2.spines['left'].set_linewidth(4)\n",
    "    for i in range(len(p)):\n",
    "        str_nb=\"{0:.2f}\".format(p[i])\n",
    "        ax2.text(p[i]*0.1 + 0.001, y_pos[i] ,str_nb ,\n",
    "                 horizontalalignment='left', verticalalignment='center',\n",
    "                 transform=ax2.transData, color= col,fontsize=ft)\n",
    "\n",
    "    plt.show()\n",
    "\n",
    "\n",
    "def apply_colormap_on_image(org_im, activation, colormap_name):\n",
    "    \"\"\"\n",
    "        Apply heatmap on image\n",
    "    Args:\n",
    "        org_img (PIL img): Original image\n",
    "        activation_map (numpy arr): Activation map (grayscale) 0-255\n",
    "        colormap_name (str): Name of the colormap\n",
    "    \"\"\"\n",
    "    # Get colormap\n",
    "    color_map = mpl_color_map.get_cmap(colormap_name)\n",
    "    no_trans_heatmap = color_map(activation)\n",
    "    # Change alpha channel in colormap to make sure original image is displayed\n",
    "    heatmap = copy.copy(no_trans_heatmap)\n",
    "    heatmap[:, :, 3] = 0.4\n",
    "    heatmap = Image.fromarray((heatmap*255).astype(np.uint8))\n",
    "    no_trans_heatmap = Image.fromarray((no_trans_heatmap*255).astype(np.uint8))\n",
    "\n",
    "    # Apply heatmap on iamge\n",
    "    heatmap_on_image = Image.new(\"RGBA\", org_im.size)\n",
    "    heatmap_on_image = Image.alpha_composite(heatmap_on_image, org_im.convert('RGBA'))\n",
    "    heatmap_on_image = Image.alpha_composite(heatmap_on_image, heatmap)\n",
    "    return no_trans_heatmap, heatmap_on_image"
   ]
  },
  {
   "cell_type": "markdown",
   "metadata": {
    "id": "UzXv8qM1rPlc"
   },
   "source": [
    "## Task 1: Building Neural Network\n",
    "\n",
    "In this task, you are expected to build a convolutional neural network (CNN) for solving a problem of image recognition and explore strategies that could further strengthen its performance.  "
   ]
  },
  {
   "cell_type": "markdown",
   "metadata": {
    "id": "amSbmHCa84Yf"
   },
   "source": [
    "### Defining the Model\n",
    "\n",
    "In deep learning, a Convolutional Neural Network (CNN, or ConvNet) is one of the most famous deep learning models that have been widely used in the field of computer vision. A simple CNN often consists of three main types of layers:\n",
    "- **Convolutional Layer**, the core building block that takes over the most of computational burdens, contains a set of filters (or kernels) with learnable parameters while training. It receives as input an image (or a feature map), and computes its output volume by stacking the activation maps convolved by every filter along the depth dimension. \n",
    "- **Pooling Layer** is commonly inserted in-between successive Conv layers in a CNN architecture. Its function is to progressively reduce the spatial size of the representation to reduce the amount of parameters and computation in the network, and hence to also control overfitting. \n",
    "- **Fully Connected Layer** have fully connections to all activations in the previous layer and is usually placed before the output layer to form the last few layers of a CNN Architecture.\n",
    "\n",
    "If you are not familiar with CNN architectures, [this blog](https://towardsdatascience.com/a-comprehensive-guide-to-convolutional-neural-networks-the-eli5-way-3bd2b1164a53) may help you get a better understanding of the mechanism of each layer."
   ]
  },
  {
   "cell_type": "markdown",
   "metadata": {
    "id": "Rm2a5m_WoTjf"
   },
   "source": [
    "Define a naive CNN stacked by the layers mentioned above. While doing so, please follow the TODOs provided below. (Refer to [torch.nn](https://pytorch.org/docs/stable/nn.html) for detailed instructions of building basic blocks with PyTorch.)"
   ]
  },
  {
   "cell_type": "code",
   "execution_count": null,
   "metadata": {
    "id": "LVv2SxOihl6K"
   },
   "outputs": [],
   "source": [
    "class ConvNet(torch.nn.Module):\n",
    "    def __init__(self):\n",
    "        super(ConvNet, self).__init__()\n",
    "        \n",
    "        ##############################################################################\n",
    "        # TODO: Define a simple CNN contraining Conv, Pooling, and FC layers.        #\n",
    "        ##############################################################################\n",
    "        \n",
    "        # Block 1:         3 x 32 x 32 --> 32 x 16 x 16     \n",
    "\n",
    "        # Block 2:         32 x 16 x 16 --> 64 x 8 x 8\n",
    "\n",
    "        # Block 3:         64 x 8 x 8 --> 128 x 4 x 4        \n",
    "\n",
    "        # Block 4:          128 x 4 x 4 --> 256 x 2 x 2\n",
    "\n",
    "        # Linear layers:   256 x 2 x 2 --> 1024 --> 2048 --> 4096 --> 4096 --> 10\n",
    "\n",
    "        ##############################################################################\n",
    "        #                             END OF YOUR CODE                               #\n",
    "        ##############################################################################\n",
    "\n",
    "    def forward(self, x):\n",
    "        \n",
    "        ##############################################################################\n",
    "        # TODO: Implement forward path turning an input image to class probability.  #\n",
    "        # For activation function, please use ReLU.                                  #\n",
    "        ##############################################################################\n",
    "\n",
    "        # Block 1:         3 x 32 x 32 --> 32 x 16 x 16\n",
    "\n",
    "        # Block 2:         32 x 16 x 16 --> 64 x 8 x 8\n",
    "\n",
    "        # Block 3:         64 x 8 x 8 --> 128 x 4 x 4\n",
    "\n",
    "        # Block 4:         128 x 4 x 4 --> 256 x 2 x 2\n",
    "\n",
    "        # Linear layers:   256 x 2 x 2 --> 1024 --> 2048 --> 4096 --> 4096 --> 10   \n",
    "\n",
    "        ##############################################################################\n",
    "        #                             END OF YOUR CODE                               #\n",
    "        ##############################################################################\n",
    "        \n",
    "        return x\n",
    "\n",
    "model = ConvNet()\n",
    "model.to(device)\n",
    "print(model)"
   ]
  },
  {
   "cell_type": "markdown",
   "metadata": {
    "id": "CT0GtJL3Ag-I"
   },
   "source": [
    "### Training the Model\n",
    "\n",
    "Some default settings for training. "
   ]
  },
  {
   "cell_type": "code",
   "execution_count": null,
   "metadata": {
    "id": "jgNLaSYeoTjf"
   },
   "outputs": [],
   "source": [
    "# Hyperparameters\n",
    "epochs = 20\n",
    "batch_size = 128\n",
    "learning_rate = 0.25\n",
    "\n",
    "# Set up optimizer\n",
    "optimizer = optim.SGD(model.parameters(), lr=learning_rate)\n",
    "# Define loss function\n",
    "criterion = torch.nn.CrossEntropyLoss()\n",
    "# Build data loaders\n",
    "train_loader = torch.utils.data.DataLoader(train_set, batch_size=batch_size, shuffle=True, num_workers=1)\n",
    "test_loader = torch.utils.data.DataLoader(test_set, batch_size=batch_size, shuffle=False, num_workers=1)\n",
    "data_loaders = {\"train\": train_loader, \"test\": test_loader}\n",
    "dataset_sizes = {\"train\": train_size, \"test\": test_size}"
   ]
  },
  {
   "cell_type": "markdown",
   "metadata": {
    "id": "s5IIzOnnoTjf"
   },
   "source": [
    "Here, your job is to implement two functions for training and testing model."
   ]
  },
  {
   "cell_type": "code",
   "execution_count": null,
   "metadata": {
    "id": "i8ERy2xSuygX"
   },
   "outputs": [],
   "source": [
    "def eval_on_test_set(model):\n",
    "    model.eval()\n",
    "    running_error = 0\n",
    "\n",
    "    for data in test_loader:\n",
    "        pass\n",
    "        ##############################################################################\n",
    "        # TODO: Implement the evaluation process on test set.                        #\n",
    "        ##############################################################################\n",
    "\n",
    "        # Load inputs and labels and deploy to running device\n",
    "\n",
    "        # Forward batch data through the net\n",
    "\n",
    "        # Compute the error made on this batch and add it to the running error\n",
    "\n",
    "        ##############################################################################\n",
    "        #                             END OF YOUR CODE                               #\n",
    "        ##############################################################################\n",
    "        \n",
    "    total_error = running_error / test_size\n",
    "    print('error rate on test set = {:.2f}%'.format(total_error * 100))\n",
    "    model.train()"
   ]
  },
  {
   "cell_type": "code",
   "execution_count": null,
   "metadata": {
    "id": "iL3QYrp7u1V4"
   },
   "outputs": [],
   "source": [
    "def train_net(model):\n",
    "    start=time.time()\n",
    "    model.train()\n",
    "\n",
    "    for epoch in range(epochs):\n",
    "        # set the running quatities to zero at the beginning of the epoch\n",
    "        running_loss = 0\n",
    "        running_error = 0\n",
    "    \n",
    "        for data in train_loader:\n",
    "            pass\n",
    "            ##############################################################################\n",
    "            # TODO: Implement the training process.                                      #\n",
    "            ##############################################################################\n",
    "\n",
    "            # Load inputs and labels and deploy to running device\n",
    "\n",
    "            # Set the gradients to zeros\n",
    "\n",
    "            # Forward the batch data through the net       \n",
    "\n",
    "            # Compute the average of the losses of the data points in the minibatch\n",
    "\n",
    "            # Backward pass to compute gradients\n",
    "\n",
    "            # Do one step of stochastic gradient descent\n",
    "\n",
    "            # Add the loss of this batch to the running loss\n",
    "\n",
    "            # Compute the error made on this batch and add it to the running error\n",
    "            \n",
    "            ##############################################################################\n",
    "            #                             END OF YOUR CODE                               #\n",
    "            ##############################################################################\n",
    "            \n",
    "        # Compute stats for the full training set\n",
    "        total_loss = running_loss / train_size\n",
    "        total_error = running_error / train_size\n",
    "        elapsed = (time.time()-start) / 60\n",
    "        \n",
    "        print('epoch= {} \\t time= {:.2f} min \\t loss= {:.3f} \\t error= {:.2f}%'.format(epoch, elapsed, total_loss, total_error * 100))\n",
    "        eval_on_test_set(model) "
   ]
  },
  {
   "cell_type": "markdown",
   "metadata": {
    "id": "2ITE1NSfoTjg"
   },
   "source": [
    "Run `train_net` and start training. After training, your error on the testing set should be under 30% (if not, please look back and check your codes, there might be something wrong with the network architecture or training process). Once the training phrase is completed, save the trained model on your device so it can be directly loaded in the following tasks."
   ]
  },
  {
   "cell_type": "code",
   "execution_count": null,
   "metadata": {
    "id": "qZPoh-WQoTjg"
   },
   "outputs": [],
   "source": [
    "# Start training\n",
    "train_net(model)\n",
    "# Save the trained model\n",
    "torch.save(model.state_dict(), './model_cnn.pt')"
   ]
  },
  {
   "cell_type": "markdown",
   "metadata": {
    "id": "D94cT95fDn4q"
   },
   "source": [
    "### Ploting the Results\n",
    "\n",
    "Now you have finished model training, let's randomly pick some test images, feed them into your model and see how they turn out. (There is nothing to implement in this section.)"
   ]
  },
  {
   "cell_type": "code",
   "execution_count": null,
   "metadata": {
    "id": "OAEMjcgax1cK"
   },
   "outputs": [],
   "source": [
    "assert os.path.exists('./model_cnn.pt'), 'train the model first'\n",
    "# Load the trained model\n",
    "model.load_state_dict(torch.load('./model_cnn.pt', map_location=torch.device('cpu')))\n",
    "model.to(device)\n",
    "model.eval()"
   ]
  },
  {
   "cell_type": "code",
   "execution_count": null,
   "metadata": {
    "id": "BiWyCjxO4zqr"
   },
   "outputs": [],
   "source": [
    "# Choose a picture at random\n",
    "idx = randint(0, test_size-1)\n",
    "print(idx)\n",
    "im, label = test_set[idx]\n",
    "org_im = inverse_transform(im)\n",
    "\n",
    "# Send to device, rescale, and view as a batch of 1 \n",
    "im = im.to(device)\n",
    "im = im.view(1,3,32,32)\n",
    "\n",
    "# Feed it to the net and display the confidence scores\n",
    "scores = model(im) \n",
    "probs = F.softmax(scores, dim=1)\n",
    "show_prob_cifar(org_im, label, probs)"
   ]
  },
  {
   "cell_type": "markdown",
   "metadata": {
    "id": "JHdXjkU8oTjg"
   },
   "source": [
    "### Refining the Model\n",
    "\n",
    "Although the vallina model has achieved fair classification results, the test error is still high remaining huge room for further improvement. There are lots of methods to refine your model, such as **modifying the network architecture** (e.g., making your network deeper), **optimizing the learning strategy** (e.g., optimizer, loss function), and **tuning the hyperparameters** (e.g., learning rate, training iterations), etc. Please try at least **TWO** different methods to improve your model's performance, and discuss why these changes can work. Design and conduct your own experiments using the coding cell below, and present your experimental results and analysis in a decent way (e.g., drawing some neat figures/tables can help to convey your thoughts effectively). "
   ]
  },
  {
   "cell_type": "code",
   "execution_count": null,
   "metadata": {
    "id": "hilYigv8oTjg"
   },
   "outputs": [],
   "source": [
    "##############################################################################\n",
    "# TODO: Conduct experiments to refine your model (e.g., modify the backbone, #\n",
    "# alter the learning strategy, and tuning the hyperparameters, etc.).        #\n",
    "##############################################################################\n",
    "\n",
    "# your code\n",
    "\n",
    "##############################################################################\n",
    "#                             END OF YOUR CODE                               #\n",
    "##############################################################################"
   ]
  },
  {
   "cell_type": "markdown",
   "metadata": {
    "id": "aGKGlsYMoTjg"
   },
   "source": [
    "---\n",
    "\n",
    "**Write your observations and analysis in this Markdown cell:**\n",
    "\n",
    "---"
   ]
  },
  {
   "cell_type": "markdown",
   "metadata": {
    "id": "-dQFsHMr_8ol"
   },
   "source": [
    "## Task 2: Exploring Model Training\n",
    "\n",
    "The model is doing well, eating images and predicting results; however, everything that happens inside is opaque and hard to explain. So, how can we interpret how CNN sees and understands when making a decision? \n",
    "\n",
    "In this section, we are going to explore Grad-CAM, a visual explanation algorithm that generates heatmaps indicating where the network is \"looking\" in the forward pass."
   ]
  },
  {
   "cell_type": "markdown",
   "metadata": {
    "id": "uk_pbk_goTjg"
   },
   "source": [
    "### Grad-CAM\n",
    "\n",
    "Gradient-weighted Class Activation Mapping (Grad-CAM) [1], uses the gradients of any target concept, flowing into the final convolutional layer to produce a coarse localization map highlighting important regions in the image for predicting the concept. An overview of the workflow of Grad-CAM is shown below. Please read the paper [1], understand the algorithm, and implement `generate_cam`.\n",
    "\n",
    "[1] [Selvaraju, Ramprasaath R., et al. \"Grad-cam: Visual explanations from deep networks via gradient-based localization.\" ICCV 2017.](https://arxiv.org/abs/1610.02391)"
   ]
  },
  {
   "cell_type": "code",
   "execution_count": null,
   "metadata": {
    "id": "VFgVaE-YoTjh"
   },
   "outputs": [],
   "source": [
    "gradients = []  # A gloabl variable used to save the gradient\n",
    "def generate_cam(model, input_image, target_layer='conv4a', target_class=None):\n",
    "    \"\"\"\n",
    "    A function to generate Grad-CAM of specific layer and class on an input image using given model.\n",
    "  \n",
    "    Inputs\n",
    "    - model: A PyTorch model.\n",
    "    - input_image: A PyTorch Tensor of shape (1, C, H, W).\n",
    "    - target_layer: A String indicating the name of targeted convolutional layer being visualized (e.g., 'conv4').\n",
    "                    By default, use the last conv layer of the model.\n",
    "    - target_class: An Integer indicating the lable of targeted class being visualized (e.g., 1). \n",
    "                    If None, use the predicted class as target class.\n",
    "    \n",
    "    Returns: A NumPy Array of shape (N, C, H, W) showing the intended heatmap.\n",
    "    \"\"\"\n",
    "\n",
    "    ##############################################################################\n",
    "    # TODO: Given an input image, generate its Grad-CAM on target conv layer     #\n",
    "    # using the backward gradients from a specific class.                        #\n",
    "    # 1. Forward the input image, when you also need to register the gradient    #\n",
    "    # hook so as to get the gradient in backward pass (hint: register_hook).     #\n",
    "    # 2. Backward pass with specified target class, and get gradients.           #\n",
    "    # 3. Average each gradient, multiply with its conv output, and sum together. #\n",
    "    ##############################################################################\n",
    "    \n",
    "    # your code\n",
    "\n",
    "    ##############################################################################\n",
    "    #                             END OF YOUR CODE                               #\n",
    "    ##############################################################################\n",
    "\n",
    "    # Post processing\n",
    "    cam = np.maximum(cam, 0)\n",
    "    cam = (cam - np.min(cam)) / (np.max(cam) - np.min(cam))  # Normalize between 0-1\n",
    "    cam = np.uint8(cam * 255)  # Scale between 0-255 to visualize\n",
    "    cam = np.uint8(Image.fromarray(cam).resize((input_image.shape[2],\n",
    "                    input_image.shape[3]), Image.ANTIALIAS))\n",
    "\n",
    "    return cam"
   ]
  },
  {
   "cell_type": "code",
   "execution_count": null,
   "metadata": {
    "id": "rbyecfmLoTjh"
   },
   "outputs": [],
   "source": [
    "idx = randint(0, test_size-1)\n",
    "im, label = test_set[idx]\n",
    "org_im = inverse_transform(im)\n",
    "\n",
    "im = im.to(device)\n",
    "im = im.view(1,3,32,32)\n",
    "\n",
    "ax = plt.subplot(1, 2, 1)\n",
    "ax.imshow(org_im)\n",
    "ax.set_title('Original Image')\n",
    "ax.set_axis_off()\n",
    "\n",
    "cam = generate_cam(model, im)\n",
    "heatmap, heatmap_on_image = apply_colormap_on_image(org_im, cam, 'hsv')\n",
    "\n",
    "ax = plt.subplot(1, 2, 2)\n",
    "ax.imshow(heatmap_on_image)\n",
    "ax.set_title('Grad-CAM')\n",
    "ax.set_axis_off()"
   ]
  },
  {
   "cell_type": "markdown",
   "metadata": {
    "id": "0nXnIUoeoTjh"
   },
   "source": [
    "### Performing Visual Explanation\n",
    "\n",
    "Now you have successfully built a powerful tool (i.e., Grad-CAM) that can assist you to visualize and understand the CNN models. Try to make full use of `generate_cam` and design at least **TWO** experiments that can further explain how CNN sees and understands the images. For example, apply Grad-CAM on different layers and compare their differences. Please quantitatively show some evidence (e.g., plotting some examplar images clearly and elegantly) with necessary code snippets, write down your observations and briefly explain each. "
   ]
  },
  {
   "cell_type": "code",
   "execution_count": null,
   "metadata": {
    "id": "fvGGXCHSoTjh"
   },
   "outputs": [],
   "source": [
    "##############################################################################\n",
    "# TODO: Write code snippets to present your experiments (hint: if you want   #\n",
    "# to plot multiple images in one single figure, plt.subplot should help).    #\n",
    "##############################################################################\n",
    "\n",
    "# your code\n",
    "\n",
    "##############################################################################\n",
    "#                             END OF YOUR CODE                               #\n",
    "##############################################################################"
   ]
  },
  {
   "cell_type": "markdown",
   "metadata": {
    "id": "hSG_WIvdoTjh"
   },
   "source": [
    "---\n",
    "\n",
    "**Write your observations and analysis in this Markdown cell:**\n",
    "\n",
    "---"
   ]
  },
  {
   "cell_type": "markdown",
   "metadata": {
    "id": "-HdsDUNRBZUO"
   },
   "source": [
    "## Task 3: Adversarial Attack\n",
    "\n",
    "After going through some testing results in Task 1, you might think the model performs pretty well, predicting the correct classes with high confidence, and rarely making mistakes. However, the network is not as strong as you think. The network can be vulnerable and easily fooled by simply adding some very small distributions on input images. In this section, we are going to attack our previously trained model by generating adversarial images that visually look alike but crush the model without striking a blowing."
   ]
  },
  {
   "cell_type": "markdown",
   "metadata": {
    "id": "fgWZORu2oTjh"
   },
   "source": [
    "### Adversarial Examples\n",
    "\n",
    "Adversarial examples are specialised inputs created with the purpose of confusing a neural network, resulting in the misclassification of a given input. These examples are usually generated by adding imperceptible non-random perturbations to the image, which are indistinguishable to human eye, but can cause the network to fail to identify the contents of the image. There are many kinds of such attack strategies, here we focus on the Fast Gradient Sign Method (FGSM)[2]. FGSM is a white box attack where the attacker has complete access to the model being attacked. The method uses the gradients of the loss with respect to the input image to create a new image that maximises the loss. Below shows a famous exmaple taken from the paper [2], where the classification of image showing \"panda\" is changed to \"gibbon\" after adding an imperceptibly small vector: $\\text{sign}(\\nabla_xJ(\\theta, x, y))$.\n",
    "\n",
    "Kurakin et al.[3] propose an iterative FGSM (I-FGSM) attack by repeating FGSM for $n$ steps. I-FSGM usually results in higher classification error than FGSM. Read the papers below [2, 3], and  implement the I-FGSM within `ifgsm_attack`.\n",
    "\n",
    "[2] [Goodfellow, Ian J., Jonathon Shlens, and Christian Szegedy. \"Explaining and harnessing adversarial examples.\" ICLR 2015.](https://arxiv.org/abs/1412.6572) \\\n",
    "[3] [Kurakin, Alexey, Ian Goodfellow, and Samy Bengio. \"Adversarial machine learning at scale.\" ICLR 2017.](https://arxiv.org/pdf/1611.01236)"
   ]
  },
  {
   "cell_type": "markdown",
   "metadata": {
    "id": "774Gs5AroTjh"
   },
   "source": [
    "### Attacking CNN"
   ]
  },
  {
   "cell_type": "code",
   "execution_count": null,
   "metadata": {
    "id": "y1a0g1QAoTjh"
   },
   "outputs": [],
   "source": [
    "def ifgsm_attack(model, images, labels, targets=None, eps=0.07, steps=10):\n",
    "    \"\"\"\n",
    "    Iterative Fast Gradient Sign Method (I-FGSM), https://arxiv.org/pdf/1611.01236\n",
    "  \n",
    "    Arguments:\n",
    "        - model (nn.Module): model to attack.\n",
    "        - images (torch.Tensor): input images, shape (N, C, H, W).\n",
    "        - labels (torch.Tensor): ground truth labels of input images, shape (N,).\n",
    "        - targets (torch.Tensor): the target classes you want the model to misclassify, shape (N,).\n",
    "        - eps (float): maximum perturbation. \n",
    "        - steps (int): number of iterations.\n",
    "\n",
    "    Output: The adversarial examples of input images.\n",
    "    \"\"\"\n",
    "\n",
    "\n",
    "    ##############################################################################\n",
    "    # TODO: Implement Fast Gradient Sign Method to generate an adversarial image #\n",
    "    # that fools the model to predict incorrect class.                           #   \n",
    "    # 1. Get the gradients of the loss w.r.t to the input image.                 #\n",
    "    # 2. Get the sign of the gradients to create the perturbation.               #\n",
    "    # 3. Add the perturbation to the input image iteratively for n steps.        #\n",
    "    ##############################################################################\n",
    "    \n",
    "    # your code\n",
    "\n",
    "    ##############################################################################\n",
    "    #                             END OF YOUR CODE                               #\n",
    "    ##############################################################################\n",
    "\n",
    "    return adv_images.detach()"
   ]
  },
  {
   "cell_type": "markdown",
   "metadata": {
    "id": "-vdjhrjaoTjh"
   },
   "source": [
    "Pick up some images from test set, and see if the attack is successful."
   ]
  },
  {
   "cell_type": "code",
   "execution_count": null,
   "metadata": {
    "id": "TUQ5wHVxoTjh"
   },
   "outputs": [],
   "source": [
    "idx = randint(0, len(test_set)-1)\n",
    "im, label = test_set[idx]\n",
    "org_im = inverse_transform(im)\n",
    "\n",
    "im = im.to(device)\n",
    "im = im.view(1,3,32,32)\n",
    "\n",
    "print('Before attack:')\n",
    "scores = model(im) \n",
    "probs = F.softmax(scores, dim=1)\n",
    "show_prob_cifar(org_im, label, probs)\n",
    "\n",
    "adv_im = ifgsm_attack(model, im, label)\n",
    "\n",
    "print('After attack:')\n",
    "scores = model(adv_im) \n",
    "probs = F.softmax(scores, dim=1)\n",
    "show_prob_cifar(inverse_transform(adv_im[0]), label, probs)"
   ]
  },
  {
   "cell_type": "markdown",
   "metadata": {
    "id": "tvBCCgCloTjh"
   },
   "source": [
    "Run evaluation on the testing set to see how the model performs on the generated adversarial examples, and compare with results before attacks. Try different parameters (e.g., `targets`, `eps`), describe your observations with a brief explanation in the below cell. "
   ]
  },
  {
   "cell_type": "code",
   "execution_count": null,
   "metadata": {
    "id": "h2yLv3j0oTjh"
   },
   "outputs": [],
   "source": [
    "##############################################################################\n",
    "# TODO: Evaluate error rate on adversarial images generated from testing set #\n",
    "# with different parameter settings.                                         #\n",
    "##############################################################################\n",
    "\n",
    "# your code\n",
    "\n",
    "##############################################################################\n",
    "#                             END OF YOUR CODE                               #\n",
    "##############################################################################"
   ]
  },
  {
   "cell_type": "markdown",
   "metadata": {
    "id": "lpJroP7GoTji"
   },
   "source": [
    "---\n",
    "\n",
    "**Write your observations and analysis in this Markdown cell:**\n",
    "\n",
    "---"
   ]
  }
 ],
 "metadata": {
  "colab": {
   "provenance": []
  },
  "gpuClass": "standard",
  "kernelspec": {
   "display_name": "Python 3 (ipykernel)",
   "language": "python",
   "name": "python3"
  },
  "language_info": {
   "codemirror_mode": {
    "name": "ipython",
    "version": 3
   },
   "file_extension": ".py",
   "mimetype": "text/x-python",
   "name": "python",
   "nbconvert_exporter": "python",
   "pygments_lexer": "ipython3",
   "version": "3.8.13"
  }
 },
 "nbformat": 4,
 "nbformat_minor": 1
}
